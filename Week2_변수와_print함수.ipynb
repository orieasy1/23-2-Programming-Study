{
  "nbformat": 4,
  "nbformat_minor": 0,
  "metadata": {
    "colab": {
      "provenance": [],
      "authorship_tag": "ABX9TyO5bY4IfKqHzp4KpVdjJn8D",
      "include_colab_link": true
    },
    "kernelspec": {
      "name": "python3",
      "display_name": "Python 3"
    },
    "language_info": {
      "name": "python"
    }
  },
  "cells": [
    {
      "cell_type": "markdown",
      "metadata": {
        "id": "view-in-github",
        "colab_type": "text"
      },
      "source": [
        "<a href=\"https://colab.research.google.com/github/orieasy1/23-2-Programming-Study/blob/main/Week2_%EB%B3%80%EC%88%98%EC%99%80_print%ED%95%A8%EC%88%98.ipynb\" target=\"_parent\"><img src=\"https://colab.research.google.com/assets/colab-badge.svg\" alt=\"Open In Colab\"/></a>"
      ]
    },
    {
      "cell_type": "markdown",
      "source": [
        "변수 <br>\n",
        "1. 값을 저장할 때 사용하는 식별자\n",
        "2.  언제든지 새로운 값에 의해 값이 변할 수 있음\n",
        "\n",
        "변수 식별자 이름 규칙 <br>\n",
        "1. 파이썬 키워드 식별자는 식별자로 사용할 수 없다.\n",
        "2. 영문자는 대소문자를 구별한다.\n",
        "3. 식별자 구성은 영문자, 숫자, 밑줄문자(_)로 이루어진다.\n",
        "4. 첫 글자는 숫자로 시작하면 안되고 반드시 영문자나 밑줄(_)로 시작해야한다.\n",
        "5. 식별자 중간에 공백을 포함할 수 없다.\n",
        "6. 식별자 생성에 길이 제한은 없다.\n"
      ],
      "metadata": {
        "id": "osr60YGh9fEe"
      }
    },
    {
      "cell_type": "code",
      "source": [
        "#변수에 데이터를 기억한 후 출력하는 예제\n",
        "name = \"홍길동\"\n",
        "print(\"나의 이름은\", name, \"이다.\")\n",
        "\n",
        "age = 20\n",
        "print(\"나이는\", age, \"이다.\")"
      ],
      "metadata": {
        "colab": {
          "base_uri": "https://localhost:8080/"
        },
        "id": "yWWgpiBE-TQN",
        "outputId": "2164cc6e-5aa7-4fa7-9b94-d2da6cae864f"
      },
      "execution_count": null,
      "outputs": [
        {
          "output_type": "stream",
          "name": "stdout",
          "text": [
            "나의 이름은 홍길동 이다.\n",
            "나이는 20 이다.\n"
          ]
        }
      ]
    },
    {
      "cell_type": "markdown",
      "source": [
        "숫자 데이터 세 자리마다 (,) 단위를 주어 숫자를 쉽게 표현하기 위해 문자열 포맷팅 함수 format()함수를 이용한다.\n",
        "\n",
        "{형식규칙:,}.format(값)\n",
        "\n",
        "형식규칙 안에 그냥오는 숫자는 형식화할 값은 인덱스를 나타낸다. 숫자는 0부터 시작\n",
        "\n",
        ": 다음에 오는 ,는 천 단위 구분 기호로서, 정수를 천 단위로 구분하여 가독성을 높이는 데 사용됨"
      ],
      "metadata": {
        "id": "KSGIiItx-943"
      }
    },
    {
      "cell_type": "code",
      "source": [
        "name = \"홍길동\"\n",
        "kibon = 2000000\n",
        "bonus = 500000\n",
        "salary = kibon + bonus\n",
        "\n",
        "print(\"{0}씨 월급은 기본금{1:,}, 보너스{2:,}, 총급여{3:,}\".format(name, kibon, bonus, salary))"
      ],
      "metadata": {
        "colab": {
          "base_uri": "https://localhost:8080/"
        },
        "id": "WRyot3fw1dc1",
        "outputId": "80c0a37f-374c-4db9-ff85-a3bdbe62a38b"
      },
      "execution_count": null,
      "outputs": [
        {
          "output_type": "stream",
          "name": "stdout",
          "text": [
            "홍길동씨 월급은 기본금2,000,000, 보너스500,000, 총급여2,500,000\n"
          ]
        }
      ]
    },
    {
      "cell_type": "markdown",
      "source": [
        "**정수형 숫자 자리 형식 지정**\n",
        "\n",
        "{인덱스:nd}.format(변수)\n",
        "\n",
        "* 형식규칙에 ;앞에 숫자는 변수에 표시된 출력순서를 나타냄\n",
        "* n은 정수형 전체 출력자리수를 의미함\n",
        "* d는 정수형 유형 숫자를 의미하며 실수 숫자 사용시 오류가 난다"
      ],
      "metadata": {
        "id": "xMUapR5B5CM1"
      }
    },
    {
      "cell_type": "code",
      "source": [
        "num1 ,num2, num3 = 100, 200, 300\n",
        "print(\"{0:d}/{1:5d}/{2:05d}\".format(num1, num2, num3))\n",
        "\n",
        "#그냥 5를 작성하면 남는자리에 공백이 추가되고 05d를 작성하면 남는자리에 0이 추가된다"
      ],
      "metadata": {
        "id": "T9bbMGoS5BIz",
        "colab": {
          "base_uri": "https://localhost:8080/"
        },
        "outputId": "f1b24793-cc71-4012-e798-6024b82c415e"
      },
      "execution_count": null,
      "outputs": [
        {
          "output_type": "stream",
          "name": "stdout",
          "text": [
            "100/  200/00300\n"
          ]
        }
      ]
    },
    {
      "cell_type": "markdown",
      "source": [
        "**실수형 숫자 자리 형식 지정**\n",
        "\n",
        "{0:0,.1f}.format(값)\n",
        "* 형식 규칙에 ;앞에 숫자는 변수에 표시된 출력 순서를 나타낸다.\n",
        "* 0,의 의미는 정수형 숫자로 3자리마다,를 부여한다. 이때 0은 생략할 수 있다.\n",
        "* .숫자f는 실수형 소숫점 자리를 나타낼 때 사용한다.\n",
        "\n"
      ],
      "metadata": {
        "id": "0gYYoeUUCGUk"
      }
    },
    {
      "cell_type": "code",
      "source": [
        "num1 = 45000000\n",
        "num2 = 100000.41375\n",
        "\n",
        "#소수점 아래 두 자리까지\n",
        "print(\"num1 변수:{0:0,.2f} num2 변수: {1:0,.2f}\".format(num1, num2))"
      ],
      "metadata": {
        "colab": {
          "base_uri": "https://localhost:8080/"
        },
        "id": "bmoHFFj6Cfje",
        "outputId": "d6755634-2ca5-4584-c6af-dacb9f7ef57a"
      },
      "execution_count": null,
      "outputs": [
        {
          "output_type": "stream",
          "name": "stdout",
          "text": [
            "num1 변수:45,000,000.00 num2 변수: 100,000.41\n"
          ]
        }
      ]
    },
    {
      "cell_type": "markdown",
      "source": [
        "**f-string 포맷**\n",
        "\n",
        "print(f\"표시할 문자열 {변수}\")"
      ],
      "metadata": {
        "id": "3xLMBjWgDw81"
      }
    },
    {
      "cell_type": "code",
      "source": [
        "name = \"홍길동\"\n",
        "age = 20\n",
        "print(f\"이름은 {name}이고, 나이는 {age}세이다.\")"
      ],
      "metadata": {
        "colab": {
          "base_uri": "https://localhost:8080/"
        },
        "id": "hjSS5JWRDvkp",
        "outputId": "8b7d6156-4b1b-457f-e77f-a3393cfbfc98"
      },
      "execution_count": null,
      "outputs": [
        {
          "output_type": "stream",
          "name": "stdout",
          "text": [
            "이름은 홍길동이고, 나이는 20세이다.\n"
          ]
        }
      ]
    },
    {
      "cell_type": "markdown",
      "source": [
        "**print 함수와 여러 가지 내용들**\n",
        "1. 문자열 출력: \" \" 혹은 ' ' 사용<br>\n",
        "print(\"문자열\") 혹은 print('문자열')\n",
        "2. 2개이상의 문자열 연결하여 출력하기<br>+이나 ,를 사용하여 연결\n",
        "3. 문자열 반복해서 출력하기<br>*원하는 반복횟수 입력\n",
        "4. end 옵션 사용하기<br>print함수에는 기본적으로 개행이 포함되어있는데 end옵션을 이용하면 개행을 없에고 출력할수 있다.\n",
        "5. sep옵션 사용하기<br>,구분자를 주면 문자출력 시 자동으로 공백이 주어져서 출력되는데 sep 옵션을 활용하여 공백을 없애거나 구분자를 변경하여 출력할 수 있다.\n"
      ],
      "metadata": {
        "id": "WZ2Kj7L0HN7e"
      }
    },
    {
      "cell_type": "code",
      "source": [
        "#end 옵션 사용\n",
        "print(\"python\", end=\"\")\n",
        "print(\"program\")\n",
        "\n",
        "#sep 옵션 사용1: 공백없애기\n",
        "print(\"a\", \"b\", \"c\", sep=\"\")\n",
        "#sep 옵션 사용2: 공백을 ,로 변경하여 출력\n",
        "print(\"python\", \"program\", \"cool\", sep=(\",\"))"
      ],
      "metadata": {
        "colab": {
          "base_uri": "https://localhost:8080/"
        },
        "id": "Q3Ae5h4gHNVj",
        "outputId": "c4c290b4-216c-47f2-a8d1-324a1677531d"
      },
      "execution_count": null,
      "outputs": [
        {
          "output_type": "stream",
          "name": "stdout",
          "text": [
            "pythonprogram\n",
            "abc\n",
            "python,program,cool\n"
          ]
        }
      ]
    }
  ]
}