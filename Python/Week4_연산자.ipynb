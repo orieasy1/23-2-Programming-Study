{
  "nbformat": 4,
  "nbformat_minor": 0,
  "metadata": {
    "colab": {
      "provenance": [],
      "authorship_tag": "ABX9TyPkS09O4IR+1oU9TXmag1db",
      "include_colab_link": true
    },
    "kernelspec": {
      "name": "python3",
      "display_name": "Python 3"
    },
    "language_info": {
      "name": "python"
    }
  },
  "cells": [
    {
      "cell_type": "markdown",
      "metadata": {
        "id": "view-in-github",
        "colab_type": "text"
      },
      "source": [
        "<a href=\"https://colab.research.google.com/github/orieasy1/23-2-Programming-Study/blob/main/Week4_%EC%97%B0%EC%82%B0%EC%9E%90.ipynb\" target=\"_parent\"><img src=\"https://colab.research.google.com/assets/colab-badge.svg\" alt=\"Open In Colab\"/></a>"
      ]
    },
    {
      "cell_type": "markdown",
      "source": [
        "복합 대입 연산자\n",
        "\n",
        "* +=\n",
        "* -=\n",
        "* *=\n",
        "* /=\n",
        "* //=\n",
        "* %=\n",
        "* **="
      ],
      "metadata": {
        "id": "sVckbiCTqgcI"
      }
    },
    {
      "cell_type": "code",
      "execution_count": null,
      "metadata": {
        "colab": {
          "base_uri": "https://localhost:8080/"
        },
        "id": "3cnoO9dOqYyo",
        "outputId": "264d9644-c8f9-4c90-d8b8-c6b24a5f5d74"
      },
      "outputs": [
        {
          "output_type": "stream",
          "name": "stdout",
          "text": [
            "Python Programming is a amazing Language.\n"
          ]
        }
      ],
      "source": [
        "str1 = \"Python\"\n",
        "str2 = \"Programming\"\n",
        "str3 = \"is\"\n",
        "str4 = \"a amazing Language.\"\n",
        "\n",
        "str1 += \" \"\n",
        "str1 += str2\n",
        "str1 += \" \"\n",
        "str1 += str3\n",
        "str1 += \" \"\n",
        "str1 += str4\n",
        "\n",
        "print(str1)"
      ]
    },
    {
      "cell_type": "markdown",
      "source": [
        "and: 논립곱으로 두 가지 조건이 모두 참이어야 함\n",
        "\n",
        "or: 논리합으로 두 조건 중 하나만이라도 참이 되면 참\n",
        "\n",
        "not: 논리 부정으로 참이면 거짓, 거짓이면 참을 수행"
      ],
      "metadata": {
        "id": "JLyInmXSDgFh"
      }
    },
    {
      "cell_type": "code",
      "source": [],
      "metadata": {
        "id": "uLO5XIvTqfce"
      },
      "execution_count": null,
      "outputs": []
    }
  ]
}
