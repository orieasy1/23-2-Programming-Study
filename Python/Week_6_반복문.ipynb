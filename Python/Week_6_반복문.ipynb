{
  "nbformat": 4,
  "nbformat_minor": 0,
  "metadata": {
    "colab": {
      "provenance": [],
      "authorship_tag": "ABX9TyMko3gLK4Q1RApxmX49xQhJ",
      "include_colab_link": true
    },
    "kernelspec": {
      "name": "python3",
      "display_name": "Python 3"
    },
    "language_info": {
      "name": "python"
    }
  },
  "cells": [
    {
      "cell_type": "markdown",
      "metadata": {
        "id": "view-in-github",
        "colab_type": "text"
      },
      "source": [
        "<a href=\"https://colab.research.google.com/github/orieasy1/23-2-Programming-Study/blob/main/Week_6_%EB%B0%98%EB%B3%B5%EB%AC%B8.ipynb\" target=\"_parent\"><img src=\"https://colab.research.google.com/assets/colab-badge.svg\" alt=\"Open In Colab\"/></a>"
      ]
    },
    {
      "cell_type": "markdown",
      "source": [
        "for 변수 in range(시작값, 종료값+1, 증감값): <br>\n",
        "  처리할 반복 문장\n",
        "\n",
        "* 시작값과 증감값을 생략하면 시작값은 0, 증가값은 1로 간주:\n",
        "range(5) = range(0,5,1)\n",
        "\n",
        "* end = \" \" : print()함수가 가지고 있는 자동개행 특성을 무시하고 가로로 이어서 한줄에 출력할 수 있다."
      ],
      "metadata": {
        "id": "_J2qfQygFKiR"
      }
    },
    {
      "cell_type": "code",
      "source": [
        "for i in range(1,5,1):\n",
        "  print(i)"
      ],
      "metadata": {
        "id": "X7aplTOYFVL2"
      },
      "execution_count": null,
      "outputs": []
    },
    {
      "cell_type": "code",
      "source": [
        "i = 0\n",
        "sum = 0\n",
        "\n",
        "for i in range( 1, 11, 1):\n",
        "  sum += i\n",
        "\n",
        "print(\"1에서 10까지 자연수의 합 : %d\" %sum)"
      ],
      "metadata": {
        "colab": {
          "base_uri": "https://localhost:8080/"
        },
        "id": "kKUgLA2sGsAA",
        "outputId": "76ed121d-0c7d-4f47-efdc-533bc0e1a59d"
      },
      "execution_count": null,
      "outputs": [
        {
          "output_type": "stream",
          "name": "stdout",
          "text": [
            "1에서 10까지 자연수의 합 : 55\n"
          ]
        }
      ]
    },
    {
      "cell_type": "code",
      "source": [
        "for i in range(5):\n",
        "  num = int(input(\"어떤 수: \"))\n",
        "  if num%2 == 0:\n",
        "    print(f\"{num}은 짝수입니다.\")\n",
        "  else:\n",
        "    print(f\"{num}은 홀수입니다.\")"
      ],
      "metadata": {
        "colab": {
          "base_uri": "https://localhost:8080/"
        },
        "id": "8C167X5YHW0_",
        "outputId": "21cef08e-d681-4c0f-e825-0a5ecc6087f4"
      },
      "execution_count": null,
      "outputs": [
        {
          "output_type": "stream",
          "name": "stdout",
          "text": [
            "어떤 수: 5\n",
            "5은 홀수입니다.\n",
            "어떤 수: 4\n",
            "4은 짝수입니다.\n",
            "어떤 수: 3\n",
            "3은 홀수입니다.\n",
            "어떤 수: 2\n",
            "2은 짝수입니다.\n",
            "어떤 수: 1\n",
            "1은 홀수입니다.\n"
          ]
        }
      ]
    },
    {
      "cell_type": "code",
      "source": [
        "for i in range(5,0,-1):\n",
        "  print(i)"
      ],
      "metadata": {
        "colab": {
          "base_uri": "https://localhost:8080/"
        },
        "id": "BEVpjJ9oI2-x",
        "outputId": "9b18d8a1-7f3d-4f0f-82ec-0b74adb74020"
      },
      "execution_count": null,
      "outputs": [
        {
          "output_type": "stream",
          "name": "stdout",
          "text": [
            "5\n",
            "4\n",
            "3\n",
            "2\n",
            "1\n"
          ]
        }
      ]
    },
    {
      "cell_type": "markdown",
      "source": [
        "for문과 리스트\n",
        "\n",
        "for 변수 in 리스트명: <br>\n",
        "  처리할 반복 문장\n",
        "\n",
        "리스트 변수를 사용하지 않고 리스트 구조를 in 연산자 뒤에 직접 나열하여 항목 출력이 가능하다.\n",
        "for 변수 in [리스트]: <br>\n",
        "  처리할 반복 문장"
      ],
      "metadata": {
        "id": "Nc6bK3oII_0h"
      }
    },
    {
      "cell_type": "code",
      "source": [
        "num = [1,2,3,4,5]\n",
        "\n",
        "for i in num:\n",
        "  print(i)"
      ],
      "metadata": {
        "colab": {
          "base_uri": "https://localhost:8080/"
        },
        "id": "Nej278paJdkQ",
        "outputId": "a0590fa7-56ac-4500-f4dc-739fccae7863"
      },
      "execution_count": null,
      "outputs": [
        {
          "output_type": "stream",
          "name": "stdout",
          "text": [
            "1\n",
            "2\n",
            "3\n",
            "4\n",
            "5\n"
          ]
        }
      ]
    },
    {
      "cell_type": "code",
      "source": [
        "for i in [1,2,3,4,5] :\n",
        "  print(i)"
      ],
      "metadata": {
        "id": "XgXne9TsJ5c5"
      },
      "execution_count": null,
      "outputs": []
    },
    {
      "cell_type": "markdown",
      "source": [
        "리스트 구조 항목을 역순으로 출력하기 위해서는\n",
        "\n",
        "* 리스트명[::-1]와 같이 step부분에 음수값을 지정\n",
        "* reversed() 함수 사용\n",
        "* .reverse() 함수 사용"
      ],
      "metadata": {
        "id": "5ZNfndn5J_QD"
      }
    },
    {
      "cell_type": "code",
      "source": [
        "alpha = [\"a\", \"b\", \"c\", \"d\", \"e\"]\n",
        "\n",
        "for i in alpha[::-1] :\n",
        "  print(i)\n",
        "\n",
        "print()\n",
        "\n",
        "for i in reversed(alpha) :\n",
        "  print(i)\n",
        "\n",
        "print()\n",
        "\n",
        "alpha.reverse()\n",
        "for i in alpha :\n",
        "  print(i)"
      ],
      "metadata": {
        "colab": {
          "base_uri": "https://localhost:8080/"
        },
        "id": "Q0eng44tKWt8",
        "outputId": "589be0b2-52ee-4684-dbb2-222651ca8591"
      },
      "execution_count": null,
      "outputs": [
        {
          "output_type": "stream",
          "name": "stdout",
          "text": [
            "e\n",
            "d\n",
            "c\n",
            "b\n",
            "a\n",
            "\n",
            "e\n",
            "d\n",
            "c\n",
            "b\n",
            "a\n",
            "\n",
            "e\n",
            "d\n",
            "c\n",
            "b\n",
            "a\n"
          ]
        }
      ]
    },
    {
      "cell_type": "code",
      "source": [
        "zoo = [\"rabbit\", \"goat\", \"tiger\", \"lion\", \"giraffe\", \"zebra\"]\n",
        "\n",
        "for i in reversed(zoo) :\n",
        "  print(i)"
      ],
      "metadata": {
        "colab": {
          "base_uri": "https://localhost:8080/"
        },
        "id": "AGg7kyuCLJ8J",
        "outputId": "c415bfbf-2cbd-4725-f7b3-d16e3a795b63"
      },
      "execution_count": null,
      "outputs": [
        {
          "output_type": "stream",
          "name": "stdout",
          "text": [
            "zebra\n",
            "giraffe\n",
            "lion\n",
            "tiger\n",
            "goat\n",
            "rabbit\n"
          ]
        }
      ]
    },
    {
      "cell_type": "code",
      "source": [
        "zoo = [\"rabbit\", \"goat\", \"tiger\", \"lion\", \"giraffe\", \"zebra\"]\n",
        "\n",
        "for i in zoo:\n",
        "  print(f\"{i}: {len(i)}글자\")"
      ],
      "metadata": {
        "colab": {
          "base_uri": "https://localhost:8080/"
        },
        "id": "FEX1nojmL0GM",
        "outputId": "15b4436f-e414-4323-ad26-b8414646f608"
      },
      "execution_count": null,
      "outputs": [
        {
          "output_type": "stream",
          "name": "stdout",
          "text": [
            "rabbit: 6글자\n",
            "goat: 4글자\n",
            "tiger: 5글자\n",
            "lion: 4글자\n",
            "giraffe: 7글자\n",
            "zebra: 5글자\n"
          ]
        }
      ]
    },
    {
      "cell_type": "code",
      "source": [],
      "metadata": {
        "id": "gcR2fqu3lByJ"
      },
      "execution_count": null,
      "outputs": []
    },
    {
      "cell_type": "code",
      "source": [
        "str = input(\"내가 좋아하는 동물은? \")\n",
        "\n",
        "found = False\n",
        "\n",
        "for i in zoo:\n",
        "  if str == i :\n",
        "    print(f\"{str}은 동물원에 잇스니다\")\n",
        "    found = True\n",
        "    break\n",
        "\n",
        "if found:\n",
        "    print(f\"{str}은(는) 동물원에 있습니다.\")\n",
        "else:\n",
        "    print(f\"{str}은(는) 동물원에 없습니다.\")"
      ],
      "metadata": {
        "colab": {
          "base_uri": "https://localhost:8080/"
        },
        "id": "JI343ujoMAj-",
        "outputId": "c26c4c21-b4b2-4cda-a7b6-697c1feab312"
      },
      "execution_count": null,
      "outputs": [
        {
          "output_type": "stream",
          "name": "stdout",
          "text": [
            "내가 좋아하는 동물은? deer\n",
            "deer은(는) 동물원에 없습니다.\n"
          ]
        }
      ]
    },
    {
      "cell_type": "code",
      "source": [
        "str = input(\"내가 좋아하는 동물은? \")\n",
        "i=0\n",
        "for animal in zoo:\n",
        "  i += 1\n",
        "  if str == animal :\n",
        "    found = True\n",
        "    break\n",
        "if found == True:\n",
        "  print(f\"내가 좋아하는 동물 {str}은 동물원 {i}번 위치에 있다.\")\n",
        "else:\n",
        "  print(f\"{str}은 동물원에 없습니다.\")"
      ],
      "metadata": {
        "colab": {
          "base_uri": "https://localhost:8080/"
        },
        "id": "Me-OHwNlOI5S",
        "outputId": "2bbbd408-49cd-4030-dd4e-c5ed07630457"
      },
      "execution_count": null,
      "outputs": [
        {
          "output_type": "stream",
          "name": "stdout",
          "text": [
            "내가 좋아하는 동물은? lion\n",
            "내가 좋아하는 동물 lion은 동물원 4번 위치에 있다.\n"
          ]
        }
      ]
    },
    {
      "cell_type": "markdown",
      "source": [
        "**while**\n",
        "\n",
        "변수 = 초기값<br>\n",
        "while 조건식:<br>\n",
        "  변수 = 변수 + 증가값<br>\n",
        "  반복처리할 문장"
      ],
      "metadata": {
        "id": "BUJ0VxHcPNky"
      }
    },
    {
      "cell_type": "code",
      "source": [
        "animal = [\"dog\", \"duck\", \"pony\", \"donkey\", \"giraffe\", \"elepant\", \"cat\"]\n",
        "\n",
        "i=0\n",
        "while(i<len(animal)):\n",
        "  print(animal[i])\n",
        "  i+=1"
      ],
      "metadata": {
        "colab": {
          "base_uri": "https://localhost:8080/"
        },
        "id": "Z3sHY15OPVx5",
        "outputId": "3125fe29-bdf3-4060-cd95-16cd6b56ae27"
      },
      "execution_count": null,
      "outputs": [
        {
          "output_type": "stream",
          "name": "stdout",
          "text": [
            "dog\n",
            "duck\n",
            "pony\n",
            "donkey\n",
            "giraffe\n",
            "elepant\n",
            "cat\n"
          ]
        }
      ]
    },
    {
      "cell_type": "markdown",
      "source": [
        "연습문제"
      ],
      "metadata": {
        "id": "nYm9efVTQ99E"
      }
    },
    {
      "cell_type": "code",
      "source": [
        "count =0\n",
        "\n",
        "for i in range(5):\n",
        "  num = int(input(\"숫자: \"))\n",
        "  if num %2 ==0:\n",
        "    count += 1\n",
        "\n",
        "print(f\"짝수의 개수: {count}\")"
      ],
      "metadata": {
        "colab": {
          "base_uri": "https://localhost:8080/"
        },
        "id": "IygkH387Q_yE",
        "outputId": "976fbc4c-6314-4618-f896-0d62a227611f"
      },
      "execution_count": null,
      "outputs": [
        {
          "output_type": "stream",
          "name": "stdout",
          "text": [
            "숫자: 5\n",
            "숫자: 9\n",
            "숫자: 1\n",
            "숫자: 6\n",
            "숫자: 3\n",
            "짝수의 개수: 1\n"
          ]
        }
      ]
    },
    {
      "cell_type": "code",
      "source": [
        "grade = [90,85,70,60,95]\n",
        "\n",
        "for i in range(len(grade)):\n",
        "  if grade[i] >= 90:\n",
        "    print(f\"{i+1}번 학생 {grade[i]}점 : 장학금대상\")"
      ],
      "metadata": {
        "colab": {
          "base_uri": "https://localhost:8080/"
        },
        "id": "II37whazRxoT",
        "outputId": "1ecaf0ab-0d27-476b-fdcc-247e4a935764"
      },
      "execution_count": null,
      "outputs": [
        {
          "output_type": "stream",
          "name": "stdout",
          "text": [
            "0번 학생 90점 : 장학금대상\n",
            "4번 학생 95점 : 장학금대상\n"
          ]
        }
      ]
    },
    {
      "cell_type": "code",
      "source": [
        "i = 0\n",
        "while True:\n",
        "  print(\"파이썬 프로그래밍\")\n",
        "  i+=1\n",
        "  if i == 3:\n",
        "    break"
      ],
      "metadata": {
        "colab": {
          "base_uri": "https://localhost:8080/"
        },
        "id": "Br9bp5-qSa02",
        "outputId": "3022691b-c46d-4437-8a67-ae75c4b88deb"
      },
      "execution_count": null,
      "outputs": [
        {
          "output_type": "stream",
          "name": "stdout",
          "text": [
            "파이썬 프로그래밍\n",
            "파이썬 프로그래밍\n",
            "파이썬 프로그래밍\n"
          ]
        }
      ]
    },
    {
      "cell_type": "code",
      "source": [
        "name = [\"홍길동\", \"이순신\", \"강감찬\"]\n",
        "\n",
        "i=0\n",
        "while i < len(name):\n",
        "  print(f\"{name[i]}씨 반갑습니다.\")\n",
        "  i+=1"
      ],
      "metadata": {
        "colab": {
          "base_uri": "https://localhost:8080/"
        },
        "id": "AxUNFyCnS6Cu",
        "outputId": "14c80b14-36f0-4bb3-8525-0d223bb130c4"
      },
      "execution_count": null,
      "outputs": [
        {
          "output_type": "stream",
          "name": "stdout",
          "text": [
            "홍길동씨 반값습니다.\n",
            "이순신씨 반값습니다.\n",
            "강감찬씨 반값습니다.\n"
          ]
        }
      ]
    },
    {
      "cell_type": "code",
      "source": [
        "animal = [\"dog\", \"duck\", \"pony\", \"donkey\", \"giraffe\", \"elepant\", \"cat\"]\n",
        "\n",
        "i=0\n",
        "while i < len(animal):\n",
        "  if len(animal[i]) < 5:\n",
        "    print(animal[i])\n",
        "  i+=1"
      ],
      "metadata": {
        "colab": {
          "base_uri": "https://localhost:8080/"
        },
        "id": "et1D6M2GTpIx",
        "outputId": "b0e846ed-22ae-4d1b-accd-069d435f3d48"
      },
      "execution_count": null,
      "outputs": [
        {
          "output_type": "stream",
          "name": "stdout",
          "text": [
            "dog\n",
            "duck\n",
            "pony\n",
            "cat\n"
          ]
        }
      ]
    },
    {
      "cell_type": "code",
      "source": [
        "str =\"KOREA\"\n",
        "\n",
        "i=0\n",
        "while i < len(str) :\n",
        "  print(str[i])\n",
        "  i +=1"
      ],
      "metadata": {
        "colab": {
          "base_uri": "https://localhost:8080/"
        },
        "id": "QOyIyFHoUQ-E",
        "outputId": "bd4192f9-db6a-4db2-cbf5-986563379b95"
      },
      "execution_count": null,
      "outputs": [
        {
          "output_type": "stream",
          "name": "stdout",
          "text": [
            "K\n",
            "O\n",
            "R\n",
            "E\n",
            "A\n"
          ]
        }
      ]
    },
    {
      "cell_type": "code",
      "source": [
        "dan = int(input(\"몇 단?: \"))\n",
        "\n",
        "i=0\n",
        "for i in range(10):\n",
        "  print(f\"{dan} x {i} = {dan * i}\")"
      ],
      "metadata": {
        "colab": {
          "base_uri": "https://localhost:8080/"
        },
        "id": "ro8Gg8KBecFH",
        "outputId": "07342db0-67fd-4ac4-d91e-a6d662a350b1"
      },
      "execution_count": null,
      "outputs": [
        {
          "output_type": "stream",
          "name": "stdout",
          "text": [
            "몇 단?: 9\n",
            "9 x 0 = 0\n",
            "9 x 1 = 9\n",
            "9 x 2 = 18\n",
            "9 x 3 = 27\n",
            "9 x 4 = 36\n",
            "9 x 5 = 45\n",
            "9 x 6 = 54\n",
            "9 x 7 = 63\n",
            "9 x 8 = 72\n",
            "9 x 9 = 81\n"
          ]
        }
      ]
    },
    {
      "cell_type": "code",
      "source": [],
      "metadata": {
        "id": "NaH81V2dUcIV"
      },
      "execution_count": null,
      "outputs": []
    }
  ]
}
