{
  "nbformat": 4,
  "nbformat_minor": 0,
  "metadata": {
    "colab": {
      "provenance": [],
      "authorship_tag": "ABX9TyM9ENJCXRGbOFanxdw9BKyQ",
      "include_colab_link": true
    },
    "kernelspec": {
      "name": "python3",
      "display_name": "Python 3"
    },
    "language_info": {
      "name": "python"
    }
  },
  "cells": [
    {
      "cell_type": "markdown",
      "metadata": {
        "id": "view-in-github",
        "colab_type": "text"
      },
      "source": [
        "<a href=\"https://colab.research.google.com/github/orieasy1/23-2-Programming-Study/blob/main/Week7_%EC%A4%91%EC%B2%A9%EB%B0%98%EB%B3%B5%EB%AC%B8.ipynb\" target=\"_parent\"><img src=\"https://colab.research.google.com/assets/colab-badge.svg\" alt=\"Open In Colab\"/></a>"
      ]
    },
    {
      "cell_type": "markdown",
      "source": [
        "**중첩반복문**\n",
        "\n",
        "외부 for반복문 내에 또 다른 내부 for반복문을 내포하고 있는 구조이다.\n",
        "\n",
        "for 변수 in range() : #외부(outer) for<br>\n",
        "  처리할 반복 문장_1 <br>\n",
        "for 변수 in range() : #내부(inner) for<br>\n",
        "  처리할 반복 문장_2"
      ],
      "metadata": {
        "id": "UDYu6l4MhUsa"
      }
    },
    {
      "cell_type": "code",
      "execution_count": null,
      "metadata": {
        "colab": {
          "base_uri": "https://localhost:8080/"
        },
        "id": "QzuevPgPgPCn",
        "outputId": "ff041c45-a31f-43e7-a49a-fc3e57a55a0b"
      },
      "outputs": [
        {
          "output_type": "stream",
          "name": "stdout",
          "text": [
            "i=j\n",
            "\tj = 0\n",
            "\tj = 1\n",
            "\tj = 2\n",
            "i=j\n",
            "\tj = 0\n",
            "\tj = 1\n",
            "\tj = 2\n"
          ]
        }
      ],
      "source": [
        "for i in range(2):\n",
        "  print(\"i=j\")\n",
        "  for j in range(3):\n",
        "    print(\"\\tj =\", j)"
      ]
    },
    {
      "cell_type": "code",
      "source": [
        "#구구단\n",
        "for i in range(2, 10, 1):\n",
        "  for j in range(1, 10, 1):\n",
        "    print(f\"{i}x{j}={i*j}\")\n",
        "  print()"
      ],
      "metadata": {
        "colab": {
          "base_uri": "https://localhost:8080/"
        },
        "id": "qjgLYWyykhj9",
        "outputId": "1ce0f015-5541-4424-a9c7-b520643fbcd2"
      },
      "execution_count": null,
      "outputs": [
        {
          "output_type": "stream",
          "name": "stdout",
          "text": [
            "2x1=2\n",
            "2x2=4\n",
            "2x3=6\n",
            "2x4=8\n",
            "2x5=10\n",
            "2x6=12\n",
            "2x7=14\n",
            "2x8=16\n",
            "2x9=18\n",
            "\n",
            "3x1=3\n",
            "3x2=6\n",
            "3x3=9\n",
            "3x4=12\n",
            "3x5=15\n",
            "3x6=18\n",
            "3x7=21\n",
            "3x8=24\n",
            "3x9=27\n",
            "\n",
            "4x1=4\n",
            "4x2=8\n",
            "4x3=12\n",
            "4x4=16\n",
            "4x5=20\n",
            "4x6=24\n",
            "4x7=28\n",
            "4x8=32\n",
            "4x9=36\n",
            "\n",
            "5x1=5\n",
            "5x2=10\n",
            "5x3=15\n",
            "5x4=20\n",
            "5x5=25\n",
            "5x6=30\n",
            "5x7=35\n",
            "5x8=40\n",
            "5x9=45\n",
            "\n",
            "6x1=6\n",
            "6x2=12\n",
            "6x3=18\n",
            "6x4=24\n",
            "6x5=30\n",
            "6x6=36\n",
            "6x7=42\n",
            "6x8=48\n",
            "6x9=54\n",
            "\n",
            "7x1=7\n",
            "7x2=14\n",
            "7x3=21\n",
            "7x4=28\n",
            "7x5=35\n",
            "7x6=42\n",
            "7x7=49\n",
            "7x8=56\n",
            "7x9=63\n",
            "\n",
            "8x1=8\n",
            "8x2=16\n",
            "8x3=24\n",
            "8x4=32\n",
            "8x5=40\n",
            "8x6=48\n",
            "8x7=56\n",
            "8x8=64\n",
            "8x9=72\n",
            "\n",
            "9x1=9\n",
            "9x2=18\n",
            "9x3=27\n",
            "9x4=36\n",
            "9x5=45\n",
            "9x6=54\n",
            "9x7=63\n",
            "9x8=72\n",
            "9x9=81\n",
            "\n"
          ]
        }
      ]
    },
    {
      "cell_type": "code",
      "source": [
        "for i in range (1,6,1):\n",
        "  for j in range (1, i+1, 1):\n",
        "    print(\"*\", end=\"\")\n",
        "  print()"
      ],
      "metadata": {
        "colab": {
          "base_uri": "https://localhost:8080/"
        },
        "id": "Jo8ORq19ngGZ",
        "outputId": "ad6cf42f-7209-4967-d3f2-5018674b3a17"
      },
      "execution_count": null,
      "outputs": [
        {
          "output_type": "stream",
          "name": "stdout",
          "text": [
            "*\n",
            "**\n",
            "***\n",
            "****\n",
            "*****\n"
          ]
        }
      ]
    },
    {
      "cell_type": "code",
      "source": [
        "for i in range (1,6,1):\n",
        "  for j in range(1, 7-i, 1):\n",
        "    print(\" \", end=\"\")\n",
        "  for k in range(1, 2*i, 1):\n",
        "    print(\"*\", end=\"\")\n",
        "  print()"
      ],
      "metadata": {
        "colab": {
          "base_uri": "https://localhost:8080/"
        },
        "id": "gZiSP3kmoJKe",
        "outputId": "fa6ee35f-8c4a-4715-8786-dc94cb576b60"
      },
      "execution_count": null,
      "outputs": [
        {
          "output_type": "stream",
          "name": "stdout",
          "text": [
            "     *\n",
            "    ***\n",
            "   *****\n",
            "  *******\n",
            " *********\n"
          ]
        }
      ]
    },
    {
      "cell_type": "code",
      "source": [
        "for i in range(1, 6, 1):\n",
        "  for j in range(1,i+1,1):\n",
        "    print(j, end=\"\")\n",
        "  print()"
      ],
      "metadata": {
        "colab": {
          "base_uri": "https://localhost:8080/"
        },
        "id": "KQwp5NASpEqX",
        "outputId": "2f62b3e0-f873-47e8-b2cf-644fb72b2996"
      },
      "execution_count": null,
      "outputs": [
        {
          "output_type": "stream",
          "name": "stdout",
          "text": [
            "1\n",
            "12\n",
            "123\n",
            "1234\n",
            "12345\n"
          ]
        }
      ]
    },
    {
      "cell_type": "code",
      "source": [
        "for i in range(1, 6, 1):\n",
        "  for j in range(5, i-1, -1):\n",
        "    print(j, end=\"\")\n",
        "  print()"
      ],
      "metadata": {
        "colab": {
          "base_uri": "https://localhost:8080/"
        },
        "id": "1Y1fqdCDpmDL",
        "outputId": "ec50d032-9878-4c51-8909-93a6280b1e61"
      },
      "execution_count": null,
      "outputs": [
        {
          "output_type": "stream",
          "name": "stdout",
          "text": [
            "54321\n",
            "5432\n",
            "543\n",
            "54\n",
            "5\n"
          ]
        }
      ]
    },
    {
      "cell_type": "code",
      "source": [
        "for i in range(1, 6, 1):\n",
        "  for j in range(6, i, -1):\n",
        "    j-=i\n",
        "    print(j ,end=\"\")\n",
        "  print()"
      ],
      "metadata": {
        "colab": {
          "base_uri": "https://localhost:8080/"
        },
        "id": "INafa8Luqx1b",
        "outputId": "343e26f2-aba8-4a44-9180-be8e86ee9229"
      },
      "execution_count": null,
      "outputs": [
        {
          "output_type": "stream",
          "name": "stdout",
          "text": [
            "54321\n",
            "4321\n",
            "321\n",
            "21\n",
            "1\n"
          ]
        }
      ]
    },
    {
      "cell_type": "markdown",
      "source": [
        "break문"
      ],
      "metadata": {
        "id": "qIRCcTe0vnKr"
      }
    },
    {
      "cell_type": "code",
      "source": [
        "num = int(input(\"숫자입력: \"))\n",
        "\n",
        "for i in range(0,num,1):\n",
        "  print(i, end=\"\")\n",
        "  if i == 5:\n",
        "    break"
      ],
      "metadata": {
        "colab": {
          "base_uri": "https://localhost:8080/"
        },
        "id": "tUmms-c2vo1V",
        "outputId": "eb8af90d-863a-4261-f287-d9ff02bfcd85"
      },
      "execution_count": null,
      "outputs": [
        {
          "output_type": "stream",
          "name": "stdout",
          "text": [
            "숫자입력: 10\n",
            "0\n",
            "1\n",
            "2\n",
            "3\n",
            "4\n",
            "5\n"
          ]
        }
      ]
    },
    {
      "cell_type": "code",
      "source": [
        "num=0\n",
        "sum=0\n",
        "\n",
        "while 1:\n",
        "  num = int(input(\"숫자:\"))\n",
        "  sum+=num\n",
        "  if num == 0:\n",
        "    break\n",
        "print(f\"합계 = {sum}\")"
      ],
      "metadata": {
        "colab": {
          "base_uri": "https://localhost:8080/"
        },
        "id": "3EI6rekrxP0Q",
        "outputId": "094ac6d5-b51b-472e-cedc-5ad644daa483"
      },
      "execution_count": null,
      "outputs": [
        {
          "output_type": "stream",
          "name": "stdout",
          "text": [
            "숫자:2\n",
            "숫자:3\n",
            "숫자:9\n",
            "숫자:0\n",
            "합계 = 14\n"
          ]
        }
      ]
    },
    {
      "cell_type": "code",
      "source": [
        "fav_animal = \"코알라\"\n",
        "count =1\n",
        "\n",
        "while 1:\n",
        "  animal = input(\"내가 좋아하는 동물? \")\n",
        "  if animal == fav_animal:\n",
        "    break\n",
        "  count +=1\n",
        "\n",
        "print(f\"{count}번만에 정답을 맞추셨습니다\")"
      ],
      "metadata": {
        "colab": {
          "base_uri": "https://localhost:8080/"
        },
        "id": "5zPvKXKex9m4",
        "outputId": "b66c1d4d-6bae-410f-fa50-a73e9822653c"
      },
      "execution_count": null,
      "outputs": [
        {
          "output_type": "stream",
          "name": "stdout",
          "text": [
            "내가 좋아하는 동물? 사슴\n",
            "내가 좋아하는 동물? ㅎㅗ랑이\n",
            "내가 좋아하는 동물? 사자\n",
            "내가 좋아하는 동물? 표버\n",
            "내가 좋아하는 동물? 기린\n",
            "내가 좋아하는 동물? 코알라\n",
            "6만에 정답을 맞추셨습니다\n"
          ]
        }
      ]
    },
    {
      "cell_type": "markdown",
      "source": [
        "**countinue 문**\n",
        "\n",
        "반복문 루프 구간의 흐름을 유지한 상태에서 코드의 실행부분만 건너뛰는 역할을 수행"
      ],
      "metadata": {
        "id": "7Cm8j6g5ymZH"
      }
    },
    {
      "cell_type": "code",
      "source": [
        "num=[15,23,42,50,22,31,1]\n",
        "for i in num:\n",
        "  if i%2 ==0:\n",
        "    continue\n",
        "  print(i,\" \", end=\"\")"
      ],
      "metadata": {
        "colab": {
          "base_uri": "https://localhost:8080/"
        },
        "id": "BjWEochGz-Zw",
        "outputId": "b0c4a803-83c5-4440-b5a5-ce92b42f61da"
      },
      "execution_count": null,
      "outputs": [
        {
          "output_type": "stream",
          "name": "stdout",
          "text": [
            "15  23  31  1  "
          ]
        }
      ]
    }
  ]
}
