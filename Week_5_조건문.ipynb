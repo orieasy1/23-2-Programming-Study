{
  "nbformat": 4,
  "nbformat_minor": 0,
  "metadata": {
    "colab": {
      "provenance": [],
      "authorship_tag": "ABX9TyM06+Ue6Nj4tSZkRutM/dLy",
      "include_colab_link": true
    },
    "kernelspec": {
      "name": "python3",
      "display_name": "Python 3"
    },
    "language_info": {
      "name": "python"
    }
  },
  "cells": [
    {
      "cell_type": "markdown",
      "metadata": {
        "id": "view-in-github",
        "colab_type": "text"
      },
      "source": [
        "<a href=\"https://colab.research.google.com/github/orieasy1/23-2-Programming-Study/blob/main/Week_5_%EC%A1%B0%EA%B1%B4%EB%AC%B8.ipynb\" target=\"_parent\"><img src=\"https://colab.research.google.com/assets/colab-badge.svg\" alt=\"Open In Colab\"/></a>"
      ]
    },
    {
      "cell_type": "markdown",
      "source": [
        "if 조건식:<br>\n",
        "  처리할 문장"
      ],
      "metadata": {
        "id": "SHt24Cx3ITXu"
      }
    },
    {
      "cell_type": "code",
      "execution_count": null,
      "metadata": {
        "id": "BVDDMRmAIPkK"
      },
      "outputs": [],
      "source": [
        "num = int(input(\"숫자 입력: \"))\n",
        "if num < 10:\n",
        "    print(\"10보다 작은 숫자입니다.\")\n",
        "    print(\"프로그램을 종료합니다.\")"
      ]
    },
    {
      "cell_type": "markdown",
      "source": [
        "if 조건식:<br>\n",
        "  처리할 문장1<br>\n",
        "else:<br>\n",
        "  처리할 문장2"
      ],
      "metadata": {
        "id": "bgDi4Le5PEfo"
      }
    },
    {
      "cell_type": "code",
      "source": [
        "num = int(input(\"숫자입력: \"))\n",
        "\n",
        "if num < 10:\n",
        "  print(\"10보다 작은 숫자 입니다.\")\n",
        "else:\n",
        "  print(\"10보다 큰 숫자입니다.\")"
      ],
      "metadata": {
        "id": "EMhchS53QEVp"
      },
      "execution_count": null,
      "outputs": []
    },
    {
      "cell_type": "code",
      "source": [
        "sub1 = int(input(\"소프트웨어 설계: \"))\n",
        "sub2 = int(input(\"소프트웨어 개발: \"))\n",
        "sub3 = int(input(\"데이터베이스 구축: \"))\n",
        "sub4 = int(input(\"프로그래밍언어 활용: \"))\n",
        "sub5 = int(input(\"정보시스템 구축 관리: \"))\n",
        "\n",
        "avg = (sub1 + sub2 + sub3 + sub4 + sub5) / 5\n",
        "\n",
        "if sub1 >= 40:\n",
        "  if sub2 >= 40:\n",
        "    if sub3 >= 40:\n",
        "      if sub4 >= 40:\n",
        "        if sub5 >= 40:\n",
        "          if avg >= 60:\n",
        "            print(\"결과: 합격\")\n",
        "\n",
        "print(f\"평균: {avg}\")\n",
        "if sub1 >= 40 and sub2 >= 40 and sub3 >= 40 and sub4 >= 40 and sub5 >= 40 and avg >= 60:\n",
        "    print(\"결과: 합격\")\n",
        "else:\n",
        "    print(\"결과: 불합격\")\n"
      ],
      "metadata": {
        "colab": {
          "base_uri": "https://localhost:8080/"
        },
        "id": "iXQF8o47QxpS",
        "outputId": "c873cb4d-100d-468d-88ef-31d0cf718206"
      },
      "execution_count": null,
      "outputs": [
        {
          "output_type": "stream",
          "name": "stdout",
          "text": [
            "소프트웨어 설계: 70\n",
            "소프트웨어 개발: 60\n",
            "데이터베이스 구축: 80\n",
            "프로그래밍언어 활용: 90\n",
            "정보시스템 구축 관리: 40\n",
            "결과: 합격\n"
          ]
        }
      ]
    },
    {
      "cell_type": "code",
      "source": [
        "#중첩 if문 예제\n",
        "num = int(input(\"어떤수?\"))\n",
        "check1 = False\n",
        "check2 = False\n",
        "\n",
        "if num > 50:\n",
        "  check1 =True\n",
        "  if num > 100:\n",
        "    check2 = True\n",
        "\n",
        "if check1 == False:\n",
        "  print(f\"입력한 수 {num}은 50보다 작습니다.\")\n",
        "if check1 == True and check2 == False:\n",
        "  print(f\"입력한 수 {num}은 50보다 크고 100보다 작습니다.\")\n",
        "if check2 == True:\n",
        "  print(f\"입력한 수 {num}은 100보다 큽니다.\")\n",
        "\n"
      ],
      "metadata": {
        "colab": {
          "base_uri": "https://localhost:8080/"
        },
        "id": "ga-FSG40UV4r",
        "outputId": "86b63f58-ca37-41fb-d116-9b74624ecd6f"
      },
      "execution_count": null,
      "outputs": [
        {
          "output_type": "stream",
          "name": "stdout",
          "text": [
            "어떤수?120\n",
            "입력한 수 120은 100보다 큽니다.\n"
          ]
        }
      ]
    },
    {
      "cell_type": "markdown",
      "source": [
        "**if elif else**"
      ],
      "metadata": {
        "id": "rRLN_fyXbFU0"
      }
    },
    {
      "cell_type": "code",
      "source": [
        "num = int(input(\"어떤수? \"))\n",
        "\n",
        "if (num // 1) <= 9:\n",
        "  print(\"한 자리 숫자입니다.\")\n",
        "elif (num // 10) <= 9:\n",
        "  print(\"두 자리 숫자입니다.\")\n",
        "elif (num // 100) <= 9:\n",
        "  print(\"세 자리 숫자입니다.\")\n",
        "elif (num // 1000) <= 9:\n",
        "  print(\"네 자리 숫자입니다.\")"
      ],
      "metadata": {
        "colab": {
          "base_uri": "https://localhost:8080/"
        },
        "id": "l_nHTbFnbV9Y",
        "outputId": "5d5f77e3-7f75-49fc-e317-f63d51c0fd2c"
      },
      "execution_count": null,
      "outputs": [
        {
          "output_type": "stream",
          "name": "stdout",
          "text": [
            "어떤수? 1111\n",
            "네 자리 숫자입니다.\n"
          ]
        }
      ]
    },
    {
      "cell_type": "markdown",
      "source": [
        "**if조건문과 list**\n",
        "\n",
        "* 리스트에 항목값이 있는지 확인<br>\n",
        "if 항목값 in list:<br>\n",
        "  처리할 문장\n",
        "* 리스트에 항목값이 없는지 확인<br>\n",
        "if 항목값 not in list:\n",
        "  처리할 문장\n",
        "\n",
        "* if문을 사용하지 않아도 print('m' not in alpha)식으로 사용해서"
      ],
      "metadata": {
        "id": "4XUlC5THc2Fp"
      }
    },
    {
      "cell_type": "code",
      "source": [
        "num =[1,2,3,4,5]\n",
        "\n",
        "if 3 in num:\n",
        "  print(\"항목 3이 존재\")\n",
        "else:\n",
        "  print(\"항목 3이 존재하지 않음\")"
      ],
      "metadata": {
        "id": "ryN73yyJdVQh"
      },
      "execution_count": null,
      "outputs": []
    }
  ]
}