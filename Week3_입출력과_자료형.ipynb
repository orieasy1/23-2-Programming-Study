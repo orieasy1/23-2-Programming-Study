{
  "nbformat": 4,
  "nbformat_minor": 0,
  "metadata": {
    "colab": {
      "provenance": [],
      "authorship_tag": "ABX9TyOtWPTZcM8WRLkpLNxdr5nO",
      "include_colab_link": true
    },
    "kernelspec": {
      "name": "python3",
      "display_name": "Python 3"
    },
    "language_info": {
      "name": "python"
    }
  },
  "cells": [
    {
      "cell_type": "markdown",
      "metadata": {
        "id": "view-in-github",
        "colab_type": "text"
      },
      "source": [
        "<a href=\"https://colab.research.google.com/github/orieasy1/23-2-Programming-Study/blob/main/Week3_%EC%9E%85%EC%B6%9C%EB%A0%A5%EA%B3%BC_%EC%9E%90%EB%A3%8C%ED%98%95.ipynb\" target=\"_parent\"><img src=\"https://colab.research.google.com/assets/colab-badge.svg\" alt=\"Open In Colab\"/></a>"
      ]
    },
    {
      "cell_type": "markdown",
      "source": [
        "**input() 함수**\n",
        "* 키보드로부터 입력한 데이터를 가져오는 함수\n",
        "* 사용자가 입력한 데이터를 무조건 **문자열**형태로 입력받아 변수에 할당한다.\n",
        "* 사용자가 데이터를 입력하면 input함수는 종료된다.\n",
        "* 숫자형 데이터를 입력하고 싶다면 해당하는 자료형()을 붙여주면된다,<br> int():정수형<br> float(): 실수형\n",
        "* 여러 데이터를 입력하고 싶다면 input()함수 뒤에 추가적으로 .split()을 추가해주면된다.<br>spilt() 함수를 사용하는 것은 입력하는 데이터에 대해서 구분하여 입력을 받겠다는 의미"
      ],
      "metadata": {
        "id": "zlW1T8FmJ38M"
      }
    },
    {
      "cell_type": "code",
      "execution_count": null,
      "metadata": {
        "colab": {
          "base_uri": "https://localhost:8080/"
        },
        "id": "JfhOr89ZGrc3",
        "outputId": "8376bcd0-8a4a-4cf1-ab6f-b7e8a903fb5b"
      },
      "outputs": [
        {
          "output_type": "stream",
          "name": "stdout",
          "text": [
            "첫번째 정수? 150\n",
            "두번째 정수? 350\n",
            "세번째 정수? 500\n",
            "150과 350과 500의 합은 1000이다.\n"
          ]
        }
      ],
      "source": [
        "num1 = int(input(\"첫번째 정수? \"))\n",
        "num2 = int(input(\"두번째 정수? \"))\n",
        "num3 = int(input(\"세번째 정수? \"))\n",
        "\n",
        "sum = num1 + num2 + num3\n",
        "print(f\"{num1}과 {num2}과 {num3}의 합은 {sum}이다.\")"
      ]
    },
    {
      "cell_type": "markdown",
      "source": [
        "**파이썬 자료형 정리**\n",
        "* int: 숫자형 데이터 정수\n",
        "* float: 숫자형 데이터 실수\n",
        "* 진법데이터: 16진수=> 0x 8진수=> 0o 2진수=> 0b\n",
        "* str: 문자형 자료형\n",
        "* 리스트: 변수명 = [항목1, 항목2, 항목3....]\n",
        "  * 인덱스 사용: 0부터\n",
        "  * 릿트의 자료형은 클래스 객체\n",
        "  * 자료형 구분없이 저장가능\n",
        "  * 빈리스트에 append()함수를 이용하여 항목을 추가할 수 있다\n",
        "  * remove() 함수를 이용하여 삭제할 수 있다.\n",
        "  * 인덱스를 del키워드와 pop함수와 함께 사용하여 항목을 삭제할 수 있다.\n",
        "  * clear()를 사용하면 모든 값이 한번에 삭제된다."
      ],
      "metadata": {
        "id": "iMsAB9Nyb1sN"
      }
    },
    {
      "cell_type": "code",
      "source": [
        "#정수\n",
        "a = 100\n",
        "type(a)\n",
        "\n",
        "#실수\n",
        "b= -1.1\n",
        "type(b)\n",
        "\n",
        "#진법\n",
        "c= 0xF\n",
        "d=0o25\n",
        "e=0b0010\n",
        "type(c)\n",
        "type(d)\n",
        "type(e)\n",
        "\n",
        "#문자열\n",
        "f= \"python\"\n",
        "type(f)\n",
        "\n",
        "#리스트 자료형\n",
        "grade_list = [90, 85, 70, 85, 90]\n",
        "print(grade_list)\n",
        "\n",
        "print(grade_list[0])\n",
        "print(grade_list[3])\n",
        "\n",
        "grade_list2=[]\n",
        "grade_list2.append(100)\n",
        "grade_list2.append(90)\n",
        "grade_list2.append(80)\n",
        "grade_list2.append(70)\n",
        "grade_list2.append(60)\n",
        "grade_list2.append(50)\n",
        "print(grade_list2)\n",
        "\n",
        "grade_list2.remove(50) #항목명 입력\n",
        "del grade_list2[4] #인덱스 입력\n",
        "grade_list2.pop(3) #인덱스 입력\n",
        "print(grade_list2)\n",
        "\n",
        "grade_list2.clear()\n",
        "print(grade_list2)"
      ],
      "metadata": {
        "colab": {
          "base_uri": "https://localhost:8080/"
        },
        "id": "CgCB5kl1f3_G",
        "outputId": "0ccbd5a6-ef00-4c84-8b79-b4f1b1fd3dc6"
      },
      "execution_count": null,
      "outputs": [
        {
          "output_type": "stream",
          "name": "stdout",
          "text": [
            "[90, 85, 70, 85, 90]\n",
            "90\n",
            "85\n",
            "[100, 90, 80, 70, 60, 50]\n",
            "[100, 90, 80]\n",
            "[]\n"
          ]
        }
      ]
    },
    {
      "cell_type": "code",
      "source": [
        "#리스트 자료형 예제 실습\n",
        "list_color = [\"red\", \"blue\", \"orange\", \"green\", \"purple\"]\n",
        "\n",
        "list_color.pop(4)\n",
        "list_color.remove(\"orange\")\n",
        "print(list_color)\n",
        "\n",
        "#del 키워드를 통해 리스트 변수명 자체를 삭제할 수 있다.\n",
        "del list_color\n",
        "\n"
      ],
      "metadata": {
        "colab": {
          "base_uri": "https://localhost:8080/"
        },
        "id": "9guhskxnjwHP",
        "outputId": "993e18c9-02df-42d8-bf3f-b5ea87092ff6"
      },
      "execution_count": null,
      "outputs": [
        {
          "output_type": "stream",
          "name": "stdout",
          "text": [
            "['red', 'blue', 'green']\n"
          ]
        }
      ]
    },
    {
      "cell_type": "markdown",
      "source": [
        "**산술 연산자**\n",
        "* 덧셈 +\n",
        "* 뺄셈 -\n",
        "* 곱셉 *\n",
        "* 나눗셈 /\n",
        "* 나눗셈(몫) //\n",
        "* 나머지 %\n",
        "거듭제곱 **"
      ],
      "metadata": {
        "id": "aC28Dqq5nInq"
      }
    },
    {
      "cell_type": "code",
      "source": [
        "# 분자, 분모 값을 입력 받아 //과 %f를 이용하여 프로그램을 작성하시오.\n"
      ],
      "metadata": {
        "id": "H7N0YUOmop9U"
      },
      "execution_count": null,
      "outputs": []
    }
  ]
}